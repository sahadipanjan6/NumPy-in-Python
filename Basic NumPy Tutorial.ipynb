{
 "cells": [
  {
   "cell_type": "code",
   "execution_count": 2,
   "metadata": {},
   "outputs": [],
   "source": [
    "# importing the required packages\n",
    "import sys\n",
    "import numpy as np"
   ]
  },
  {
   "cell_type": "code",
   "execution_count": 4,
   "metadata": {},
   "outputs": [
    {
     "name": "stdout",
     "output_type": "stream",
     "text": [
      "Sum of first 2 elements:  6\n"
     ]
    }
   ],
   "source": [
    "# Basic Numpy Arrays\n",
    "a = np.array([1, 2, 3, 4])\n",
    "b = np.array([5, 6, 7, 8])\n",
    "\n",
    "# displaying the summation of the first elements of the arrays\n",
    "print(\"Sum of first 2 elements: \", (a[0] + b[0]))"
   ]
  },
  {
   "cell_type": "code",
   "execution_count": 7,
   "metadata": {},
   "outputs": [
    {
     "name": "stdout",
     "output_type": "stream",
     "text": [
      "Summation of corresponding elements is: \n",
      "6 8 10 12 "
     ]
    }
   ],
   "source": [
    "# summation of all the corresponding elements of both the arrays\n",
    "\n",
    "print(\"Summation of corresponding elements is: \")\n",
    "for i in range(len(a)):\n",
    "    print(a[i] + b[i], end=\" \")"
   ]
  },
  {
   "cell_type": "code",
   "execution_count": 8,
   "metadata": {},
   "outputs": [
    {
     "name": "stdout",
     "output_type": "stream",
     "text": [
      "Enter the lowerbound: 1\n",
      "Enter the upperbound: 4\n",
      "The elements between index 1 and index 4 is: [2 3 4]\n"
     ]
    }
   ],
   "source": [
    "# slicing the numpy array (viewing the sub-array)\n",
    "lowerbound = int(input(\"Enter the lowerbound: \"))\n",
    "upperbound = int(input(\"Enter the upperbound: \"))\n",
    "\n",
    "# displaying the sub-array\n",
    "print(\"The elements between index\", lowerbound, \"and index\", upperbound, \"is:\",\n",
    "     a[lowerbound:upperbound])"
   ]
  },
  {
   "cell_type": "code",
   "execution_count": 12,
   "metadata": {},
   "outputs": [
    {
     "name": "stdout",
     "output_type": "stream",
     "text": [
      "Enter the array length: 4\n",
      "Enter the elements of the array one by one... \n",
      "1\n",
      "2\n",
      "3\n",
      "4\n",
      "Data-Type of [1 2 3 4] is: int64\n"
     ]
    }
   ],
   "source": [
    "# checking the type of the array that we are trying to store\n",
    "\n",
    "# creating a different array other than the 2 that were created before\n",
    "number_of_elements = int(input(\"Enter the array length: \"))\n",
    "print(\"Enter the elements of the array one by one... \")\n",
    "empty_list = list()\n",
    "\n",
    "for i in range(number_of_elements):\n",
    "    empty_list.append(int(input()))\n",
    "    \n",
    "created_array = np.array(empty_list)  \n",
    "\n",
    "# viewing the array and checking its type\n",
    "print(\"Data-Type of\", created_array, \"is:\", (created_array.dtype))\n"
   ]
  },
  {
   "cell_type": "code",
   "execution_count": 13,
   "metadata": {},
   "outputs": [
    {
     "name": "stdout",
     "output_type": "stream",
     "text": [
      "Enter the array length: 5\n",
      "Enter the elements of the array one by one... \n",
      "3\n",
      "1\n",
      "6\n",
      "2\n",
      "9\n",
      "Array created: [3. 1. 6. 2. 9.]\n"
     ]
    }
   ],
   "source": [
    "# creating a numpy array with explicitly mentioning the target datatype\n",
    "\n",
    "number_of_elements = int(input(\"Enter the array length: \"))\n",
    "print(\"Enter the elements of the array one by one... \")\n",
    "empty_list = list()\n",
    "\n",
    "for i in range(number_of_elements):\n",
    "    empty_list.append(int(input()))\n",
    "    \n",
    "created_array1 = np.array(empty_list, dtype=np.float)\n",
    "\n",
    "# visualizing the created array\n",
    "print(\"Array created:\", created_array1)"
   ]
  },
  {
   "cell_type": "code",
   "execution_count": 17,
   "metadata": {},
   "outputs": [
    {
     "name": "stdout",
     "output_type": "stream",
     "text": [
      "Enter length of 1st list: 4\n",
      "Enter length of 2nd list: 4\n",
      "Enter elements of 1st list one by one... \n",
      "1\n",
      "2\n",
      "3\n",
      "4\n",
      "Enter elements of 2nd list one by one...\n",
      "5\n",
      "6\n",
      "7\n",
      "8\n",
      "2-D array is:\n",
      "[[1 2 3 4]\n",
      " [5 6 7 8]]\n",
      "Shape of the array: (2, 4)\n",
      "Dimension of the array: 2\n",
      "Size of the array: 8\n"
     ]
    }
   ],
   "source": [
    "# creating multi-dimensional arrays using NumPy\n",
    "\n",
    "list1, list2 = list(), list()\n",
    "number1 = int(input(\"Enter length of 1st list: \"))\n",
    "number2 = int(input(\"Enter length of 2nd list: \"))\n",
    "\n",
    "print(\"Enter elements of 1st list one by one... \")\n",
    "for i in range(number1):\n",
    "    list1.append(int(input()))\n",
    "    \n",
    "print(\"Enter elements of 2nd list one by one...\")\n",
    "for j in range(number2):\n",
    "    list2.append(int(input()))\n",
    "\n",
    "# creation of the 2-D array\n",
    "multidimensional_array = np.array([list1, list2])\n",
    "\n",
    "# viewing the 2-D array\n",
    "print(\"2-D array is:\")\n",
    "print(multidimensional_array)\n",
    "\n",
    "# checking the shape of the created array\n",
    "print(\"Shape of the array:\", multidimensional_array.shape)\n",
    "\n",
    "# checking the dimensions of the created array\n",
    "print(\"Dimension of the array:\", multidimensional_array.ndim)\n",
    "\n",
    "# checking the size of the created array\n",
    "print(\"Size of the array:\", multidimensional_array.size)"
   ]
  },
  {
   "cell_type": "code",
   "execution_count": 25,
   "metadata": {},
   "outputs": [
    {
     "name": "stdout",
     "output_type": "stream",
     "text": [
      "Matrix created is as follows:- \n",
      "\n",
      "[[ 1  2  3  4]\n",
      " [ 5  6  7  8]\n",
      " [ 9 10 11 12]\n",
      " [13 14 15 16]] \n",
      "\n",
      "First row of the matrix: [1 2 3 4]\n",
      "Second row of the matrix: [5 6 7 8]\n",
      "Third row of the matrix: [ 9 10 11 12]\n",
      "Fourth row of the matrix: [13 14 15 16]\n",
      "Enter the row number:2\n",
      "Enter the column number:3\n",
      "Element at ( 2 , 3 ) is: 12\n",
      "Enter ending column: 2\n",
      "The submatrix is as displayed below:\n",
      "\n",
      "[[ 1  2]\n",
      " [ 5  6]\n",
      " [ 9 10]\n",
      " [13 14]]\n"
     ]
    }
   ],
   "source": [
    "# Indexing and Slicing of Matrices\n",
    "\n",
    "# creating a SQUARE MATRIX by giving the elements manually\n",
    "matrix = np.array([[1, 2, 3, 4],\n",
    "                   [5, 6, 7, 8],\n",
    "                   [9, 10, 11, 12],\n",
    "                   [13, 14, 15, 16]])\n",
    "\n",
    "# displaying the created matrix\n",
    "print(\"Matrix created is as follows:- \\n\")\n",
    "print(matrix,\"\\n\")\n",
    "\n",
    "# extracting the rows of the matrix\n",
    "print(\"First row of the matrix:\", matrix[0])\n",
    "print(\"Second row of the matrix:\", matrix[1])\n",
    "print(\"Third row of the matrix:\", matrix[2])\n",
    "print(\"Fourth row of the matrix:\", matrix[3])\n",
    "\n",
    "# displaying an element of a particular row and column in the matrix\n",
    "row_no = int(input(\"Enter the row number:\"))\n",
    "col_no = int(input(\"Enter the column number:\"))\n",
    "print(\"Element at (\", row_no,\",\", col_no,\") is:\", matrix[row_no][col_no])\n",
    "\n",
    "# displaying the sub-matrix with all the rows and selected columns\n",
    "#starting_col_no = int(input(\"Enter starting column: \"))\n",
    "ending_col_no = int(input(\"Enter ending column: \"))\n",
    "print(\"The submatrix is as displayed below:\\n\")\n",
    "print(matrix[:, :ending_col_no])"
   ]
  },
  {
   "cell_type": "code",
   "execution_count": 26,
   "metadata": {},
   "outputs": [
    {
     "name": "stdout",
     "output_type": "stream",
     "text": [
      "Original Matrix:\n",
      "\n",
      "[[ 1  2  3  4]\n",
      " [ 5  6  7  8]\n",
      " [ 9 10 11 12]\n",
      " [13 14 15 16]]\n",
      "\n",
      "Enter the row number to be modified: 3\n",
      "Enter the number of elements: 4\n",
      "Enter the new elements of the row...\n",
      "0\n",
      "0\n",
      "0\n",
      "0\n",
      "\n",
      "Modified Matrix is:\n",
      "\n",
      "[[ 1  2  3  4]\n",
      " [ 5  6  7  8]\n",
      " [ 9 10 11 12]\n",
      " [ 0  0  0  0]]\n"
     ]
    }
   ],
   "source": [
    "# modification of a particular row of the matrix\n",
    "\n",
    "# displaying the original matrix\n",
    "print(\"Original Matrix:\\n\")\n",
    "print(matrix)\n",
    "print() # for inserting a new-line\n",
    "\n",
    "row_number = int(input(\"Enter the row number to be modified: \"))\n",
    "new_elements = list()\n",
    "\n",
    "number_of_elements = int(input(\"Enter the number of elements: \"))\n",
    "print(\"Enter the new elements of the row...\")\n",
    "for i in range(number_of_elements):\n",
    "    new_elements.append(int(input()))\n",
    "    \n",
    "# setting the row of the matrix with the new elements\n",
    "matrix[row_number] = np.array(new_elements)\n",
    "\n",
    "# displaying the modified matrix\n",
    "print() # for inserting a new-line\n",
    "print(\"Modified Matrix is:\\n\")\n",
    "print(matrix)"
   ]
  },
  {
   "cell_type": "code",
   "execution_count": 28,
   "metadata": {},
   "outputs": [
    {
     "name": "stdout",
     "output_type": "stream",
     "text": [
      "Sum of the elements: 78\n",
      "Mean/Average of the elements: 4.875\n",
      "Standard Deviation of the elements: 4.106016926414211\n",
      "Variance of the elements: 16.859375\n"
     ]
    }
   ],
   "source": [
    "# displaying the SUMMARY STATISTICS of the matrix\n",
    "\n",
    "# in this section, we will be diplaying the values\n",
    "# of different statistical measures of the elements\n",
    "# of the matrix\n",
    "\n",
    "# displaying the SUM of the elements of the matrix\n",
    "print(\"Sum of the elements:\", matrix.sum())\n",
    "\n",
    "# displaying the MEAN of the elements of the matrix\n",
    "print(\"Mean/Average of the elements:\", matrix.mean())\n",
    "\n",
    "# displaying the STANDARD DEVIATION of the elements of the matrix\n",
    "print(\"Standard Deviation of the elements:\", matrix.std())\n",
    "\n",
    "# displaying the VARIANCE of the elements of the matrix\n",
    "print(\"Variance of the elements:\", matrix.var())"
   ]
  },
  {
   "cell_type": "code",
   "execution_count": 34,
   "metadata": {},
   "outputs": [
    {
     "name": "stdout",
     "output_type": "stream",
     "text": [
      "Enter the upperbound of the range:10\n",
      "Created Array: [0 1 2 3 4 5 6 7 8 9]\n",
      "Enter a value: 5\n",
      "After BROADCASTED ADDITION, array is: [ 5  6  7  8  9 10 11 12 13 14]\n",
      "After BROADCASTED SUBTRACTION, array is: [-5 -4 -3 -2 -1  0  1  2  3  4]\n",
      "After BROADCASTED MULTIPLICATION, array is: [ 0  5 10 15 20 25 30 35 40 45]\n",
      "After BROADCASTED DIVISION, array is: [0 0 0 0 0 1 1 1 1 1]\n",
      "After BROADCASTED EXPONENTIATION, array is: [    0     1    32   243  1024  3125  7776 16807 32768 59049]\n"
     ]
    }
   ],
   "source": [
    "# BROADCASTING and VECTORIZED operations\n",
    "\n",
    "# using the arange() function\n",
    "value_of_range = int(input(\"Enter the upperbound of the range:\"))\n",
    "sample_array = np.arange(value_of_range)\n",
    "\n",
    "# displaying the created array\n",
    "print(\"Created Array:\", sample_array)\n",
    "\n",
    "# broadcasting a single operation through all the elements of the array\n",
    "number = int(input(\"Enter a value: \"))\n",
    "\n",
    "# 1. Broadcasting ADDITION\n",
    "print(\"After BROADCASTED ADDITION, array is:\", (sample_array + number))\n",
    "\n",
    "# 2. Broadcasting SUBTRACTION\n",
    "print(\"After BROADCASTED SUBTRACTION, array is:\", (sample_array - number))\n",
    "\n",
    "# 3. Broadcasting MULTIPLICATION\n",
    "print(\"After BROADCASTED MULTIPLICATION, array is:\", (sample_array * number))\n",
    "\n",
    "# 4. Broadcasting DIVISION\n",
    "print(\"After BROADCASTED DIVISION, array is:\", (sample_array // number))\n",
    "\n",
    "# 5. Broadcasting EXPONENTIATION\n",
    "print(\"After BROADCASTED EXPONENTIATION, array is:\", (sample_array ** number))"
   ]
  },
  {
   "cell_type": "code",
   "execution_count": 36,
   "metadata": {},
   "outputs": [
    {
     "name": "stdout",
     "output_type": "stream",
     "text": [
      "After ADDITION: [ 7  9 11 13 15]\n",
      "After SUBTRACTION: [-5 -5 -5 -5 -5]\n",
      "After MULTIPLICATION: [ 6 14 24 36 50]\n",
      "After DIVISION: [6 3 2 2 2]\n",
      "After EXPONENTIATION: [      1     128    6561  262144 9765625]\n"
     ]
    }
   ],
   "source": [
    "# operations between two arrays\n",
    "\n",
    "first_array = np.array([1, 2, 3, 4, 5])\n",
    "second_array = np.array([6, 7, 8, 9, 10])\n",
    "\n",
    "# 1. Performing ADDITION\n",
    "print(\"After ADDITION:\", (first_array + second_array))\n",
    "\n",
    "# 2. Performing SUBTRACTION\n",
    "print(\"After SUBTRACTION:\", (first_array - second_array))\n",
    "\n",
    "# 3. Performing MULTIPLICATION\n",
    "print(\"After MULTIPLICATION:\", (first_array * second_array))\n",
    "\n",
    "# 4. Performing DIVISION\n",
    "print(\"After DIVISION:\", (second_array // first_array))\n",
    "\n",
    "#5. Performing EXPONENTIATION\n",
    "print(\"After EXPONENTIATION:\", (first_array ** second_array))"
   ]
  },
  {
   "cell_type": "code",
   "execution_count": 3,
   "metadata": {},
   "outputs": [
    {
     "name": "stdout",
     "output_type": "stream",
     "text": [
      "Enter no. of elements you want to extract:2\n",
      "Enter the indexes:\n",
      "1\n",
      "4\n",
      "The elements extracted are: [2, 5]\n"
     ]
    }
   ],
   "source": [
    "# BOOLEAN ARRAYS\n",
    "\n",
    "# 1. selecting specific elements from an array by traditional Python method\n",
    "my_array = np.array([1, 2, 3, 4, 5])\n",
    "number_of_elements = int(input(\"Enter no. of elements you want to extract:\"))\n",
    "index_list = list()\n",
    "extracted_elements_list = list()\n",
    "\n",
    "print(\"Enter the indexes:\")\n",
    "for i in range(number_of_elements):\n",
    "    index_list.append(int(input()))\n",
    "    \n",
    "for j in index_list:\n",
    "    extracted_elements_list.append(my_array[j])\n",
    "    \n",
    "print(\"The elements extracted are:\", extracted_elements_list)\n",
    "\n",
    "# 2. extracting the elements by Boolean Array technique\n",
    "# suppose the user wants to extract 2 elements from the array\n"
   ]
  },
  {
   "cell_type": "code",
   "execution_count": 9,
   "metadata": {},
   "outputs": [
    {
     "name": "stdout",
     "output_type": "stream",
     "text": [
      "Shape of Matrix1: (3, 3)\n",
      "Shape of Matrix2: (3, 2)\n",
      "Dot product between Matrix1 and Matrix2 is:- \n",
      "\n",
      "[[ 82  88]\n",
      " [199 214]\n",
      " [316 340]]\n",
      "Cross product between Matrix1 and Matrix2 is:- \n",
      "\n",
      "[[ 82  88]\n",
      " [199 214]\n",
      " [316 340]]\n"
     ]
    }
   ],
   "source": [
    "# LINEAR ALGEBRA on NumPy matrices\n",
    "\n",
    "# taking the first matrix\n",
    "matrix1 = np.array([[1, 2, 3],\n",
    "                   [4, 5, 6],\n",
    "                   [7, 8, 9]])\n",
    "\n",
    "# displaying the shape\n",
    "print(\"Shape of Matrix1:\", matrix1.shape)\n",
    "\n",
    "# taking the second matrix\n",
    "matrix2 = np.array([[11, 12],\n",
    "                    [13, 14],\n",
    "                    [15, 16]])\n",
    "\n",
    "# displaying the shape\n",
    "print(\"Shape of Matrix2:\", matrix2.shape)\n",
    "\n",
    "# 1. Performing DOT PRODUCT between the two matrices\n",
    "\n",
    "print(\"Dot product between Matrix1 and Matrix2 is:- \\n\")\n",
    "print(matrix1.dot(matrix2), \"\\n\")\n",
    "\n",
    "# 2. Performing CROSS PRODUCT between the two matrices\n",
    "\n",
    "print(\"Cross product between Matrix1 and Matrix2 is:- \\n\")\n",
    "print(matrix1 @ matrix2)"
   ]
  },
  {
   "cell_type": "code",
   "execution_count": 14,
   "metadata": {},
   "outputs": [
    {
     "name": "stdout",
     "output_type": "stream",
     "text": [
      "Enter any number: 2\n",
      "Size of 2 in Bytes: 28 \n",
      "\n",
      "CPU times: user 570 µs, sys: 173 µs, total: 743 µs\n",
      "Wall time: 751 µs\n",
      "CPU times: user 1.73 ms, sys: 48 µs, total: 1.78 ms\n",
      "Wall time: 214 ms\n"
     ]
    },
    {
     "data": {
      "text/plain": [
       "332833500"
      ]
     },
     "execution_count": 14,
     "metadata": {},
     "output_type": "execute_result"
    }
   ],
   "source": [
    "# Size of objects in memory\n",
    "\n",
    "number = int(input(\"Enter any number: \"))\n",
    "print(\"Size of\", number, \"in Bytes:\", sys.getsizeof(number), \"\\n\")\n",
    "\n",
    "# Comparison of TIME REQUIREMENT of computations\n",
    "\n",
    "# 1. Simple Python approach\n",
    "# ------------------------------------------------\n",
    "\n",
    "# creating a list containing 1st 1000 integers\n",
    "my_list = list(range(1000))\n",
    "\n",
    "# performing the operation and finding out the time\n",
    "%time sum([i ** 2 for i in my_list])\n",
    "\n",
    "# 2. NumPy approach\n",
    "# -----------------------------------------------\n",
    "\n",
    "# creating a numpy array containing the first 1000 integers\n",
    "my_array = np.arange(1000)\n",
    "\n",
    "# performing the same operation and finding out the time\n",
    "%time np.sum(my_array ** 2)"
   ]
  },
  {
   "cell_type": "code",
   "execution_count": null,
   "metadata": {},
   "outputs": [],
   "source": []
  }
 ],
 "metadata": {
  "kernelspec": {
   "display_name": "Python 3",
   "language": "python",
   "name": "python3"
  },
  "language_info": {
   "codemirror_mode": {
    "name": "ipython",
    "version": 3
   },
   "file_extension": ".py",
   "mimetype": "text/x-python",
   "name": "python",
   "nbconvert_exporter": "python",
   "pygments_lexer": "ipython3",
   "version": "3.7.4"
  }
 },
 "nbformat": 4,
 "nbformat_minor": 2
}
